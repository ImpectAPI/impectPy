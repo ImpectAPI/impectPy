{
 "cells": [
  {
   "cell_type": "code",
   "execution_count": 1,
   "metadata": {},
   "outputs": [],
   "source": [
    "# load packages\n",
    "import impectPy\n",
    "import numpy as np\n",
    "import pandas as pd"
   ]
  },
  {
   "cell_type": "code",
   "execution_count": null,
   "metadata": {},
   "outputs": [],
   "source": [
    "# Set login credentials\n",
    "username = \"yourUsername\"\n",
    "password = \"yourPassword\"\n",
    "\n",
    "# create Impect instance and login\n",
    "api = impectPy.Impect()\n",
    "api.login(username=username, password=password)"
   ]
  },
  {
   "cell_type": "code",
   "execution_count": null,
   "metadata": {},
   "outputs": [],
   "source": [
    "# set iterationId\n",
    "iteration = 1385\n",
    "\n",
    "# fetch matches for iteration\n",
    "matches = api.getMatches(iteration=iteration)\n",
    "\n",
    "# show matches dataframe\n",
    "matches.head()"
   ]
  },
  {
   "cell_type": "code",
   "execution_count": null,
   "metadata": {},
   "outputs": [],
   "source": [
    "# fetch prediction model coefficients\n",
    "coefficients = api.getSquadCoefficients(iteration=iteration)\n",
    "\n",
    "# show coefficients\n",
    "coefficients.head()"
   ]
  },
  {
   "cell_type": "code",
   "execution_count": null,
   "metadata": {},
   "outputs": [],
   "source": [
    "# prepare columns for merging\n",
    "matches[\"date\"] = pd.to_datetime(matches[\"scheduledDate\"]).dt.tz_localize(None).dt.normalize()\n",
    "matches[\"homeSquadId\"] = matches[\"homeSquadId\"].astype(\"int64\")\n",
    "matches[\"awaySquadId\"] = matches[\"awaySquadId\"].astype(\"int64\")\n",
    "coefficients[\"date\"] = pd.to_datetime(coefficients[\"date\"]).dt.normalize()\n",
    "coefficients[\"squadId\"] = coefficients[\"squadId\"].astype(\"int64\")\n",
    "\n",
    "# sort by date\n",
    "matches = matches.sort_values(\"date\")\n",
    "coefficients = coefficients.sort_values(\"date\")\n",
    "\n",
    "# merge competition-specific coefficients using the most recent date\n",
    "matches = pd.merge_asof(\n",
    "    matches,\n",
    "    coefficients[\n",
    "        [\"date\", \"interceptCoefficient\", \"homeCoefficient\", \"competitionCoefficient\"]\n",
    "    ].drop_duplicates(\"date\"),\n",
    "    on=\"date\",\n",
    "    direction=\"backward\"\n",
    ")\n",
    "\n",
    "# merge squad-specific coefficients using the most recent date\n",
    "def get_squad_coeffs(row, coeff_df, squad_id_col) -> pd.Series:\n",
    "    squad_id = row[squad_id_col]\n",
    "    match_date = row[\"date\"]\n",
    "    squad_coeffs = coeff_df[(coeff_df[\"squadId\"] == squad_id) & (coeff_df[\"date\"] <= match_date)]\n",
    "    if len(squad_coeffs) > 0:\n",
    "        latest = squad_coeffs.sort_values(\"date\").iloc[-1]\n",
    "        return pd.Series({\"attack\": latest[\"attackCoefficient\"], \"defense\": latest[\"defenseCoefficient\"]})\n",
    "    return pd.Series({\"attack\": None, \"defense\": None})\n",
    "\n",
    "# merge homeSquad coefficients\n",
    "home_coeffs = matches.apply(lambda row: get_squad_coeffs(row, coefficients, \"homeSquadId\"), axis=1)\n",
    "matches[\"attackCoefficientHome\"] = home_coeffs[\"attack\"]\n",
    "matches[\"defenseCoefficientHome\"] = home_coeffs[\"defense\"]\n",
    "\n",
    "# merge awaySquad coefficients\n",
    "away_coeffs = matches.apply(lambda row: get_squad_coeffs(row, coefficients, \"awaySquadId\"), axis=1)\n",
    "matches[\"attackCoefficientAway\"] = away_coeffs[\"attack\"]\n",
    "matches[\"defenseCoefficientAway\"] = away_coeffs[\"defense\"]\n",
    "\n",
    "# show new matches dataframe\n",
    "matches.head()"
   ]
  },
  {
   "cell_type": "code",
   "execution_count": null,
   "metadata": {},
   "outputs": [],
   "source": [
    "# compute predictions\n",
    "matches[\"predHome\"] = np.exp(\n",
    "    matches[\"interceptCoefficient\"] +\n",
    "    matches[\"homeCoefficient\"] +\n",
    "    matches[\"competitionCoefficient\"] +\n",
    "    matches[\"attackCoefficientHome\"] +\n",
    "    matches[\"defenseCoefficientAway\"]\n",
    ")\n",
    "matches[\"predAway\"] = np.exp(\n",
    "    matches[\"interceptCoefficient\"] +\n",
    "    matches[\"competitionCoefficient\"] +\n",
    "    matches[\"attackCoefficientAway\"] +\n",
    "    matches[\"defenseCoefficientHome\"]\n",
    ")\n",
    "\n",
    "# show matches including predictions\n",
    "matches.head()"
   ]
  }
 ],
 "metadata": {
  "kernelspec": {
   "display_name": "venv",
   "language": "python",
   "name": "python3"
  },
  "language_info": {
   "codemirror_mode": {
    "name": "ipython",
    "version": 3
   },
   "file_extension": ".py",
   "mimetype": "text/x-python",
   "name": "python",
   "nbconvert_exporter": "python",
   "pygments_lexer": "ipython3",
   "version": "3.11.7"
  }
 },
 "nbformat": 4,
 "nbformat_minor": 4
}
