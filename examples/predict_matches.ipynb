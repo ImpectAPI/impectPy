{
 "cells": [
  {
   "cell_type": "code",
   "execution_count": 1,
   "metadata": {},
   "outputs": [],
   "source": [
    "# Install with `pip install impectPy numpy pandas`\n",
    "import impectPy as ip\n",
    "import numpy as np\n",
    "import pandas as pd"
   ]
  },
  {
   "cell_type": "code",
   "execution_count": null,
   "metadata": {},
   "outputs": [],
   "source": [
    "# Set login credentials\n",
    "username = \"yourUsername\"\n",
    "password = \"yourPassword\"\n",
    "\n",
    "# Fetch access token\n",
    "token = ip.getAccessToken(username=username, password=password)"
   ]
  },
  {
   "cell_type": "code",
   "execution_count": null,
   "metadata": {},
   "outputs": [],
   "source": [
    "# Set iterationId\n",
    "iterationId = 1385\n",
    "\n",
    "# Fetch matches for iteration\n",
    "matches = ip.getMatches(iterationId, token=token)\n",
    "matches.head()"
   ]
  },
  {
   "cell_type": "code",
   "execution_count": null,
   "metadata": {},
   "outputs": [],
   "source": [
    "# Fetch prediction model coefficients\n",
    "coefficients = ip.getSquadCoefficients(iterationId, token=token)\n",
    "coefficients.head()"
   ]
  },
  {
   "cell_type": "code",
   "execution_count": null,
   "metadata": {},
   "outputs": [],
   "source": [
    "# Prepare columns for merging\n",
    "matches[\"date\"] = pd.to_datetime(matches[\"scheduledDate\"]).dt.tz_localize(None).dt.normalize()\n",
    "matches[\"homeSquadId\"] = matches[\"homeSquadId\"].astype(\"int64\")\n",
    "matches[\"awaySquadId\"] = matches[\"awaySquadId\"].astype(\"int64\")\n",
    "coefficients[\"date\"] = pd.to_datetime(coefficients[\"date\"]).dt.normalize()\n",
    "coefficients[\"squadId\"] = coefficients[\"squadId\"].astype(\"int64\")\n",
    "\n",
    "# Sort by date\n",
    "matches = matches.sort_values(\"date\")\n",
    "coefficients = coefficients.sort_values(\"date\")\n",
    "\n",
    "# Merge competition-specific coefficients using the most recent date\n",
    "matches = pd.merge_asof(\n",
    "    matches,\n",
    "    coefficients[[\"date\", \"interceptCoefficient\", \"homeCoefficient\", \"competitionCoefficient\"]].drop_duplicates(\"date\"),\n",
    "    on=\"date\",\n",
    "    direction=\"backward\"\n",
    ")\n",
    "\n",
    "# Merge squad-specific coefficients using the most recent date\n",
    "def get_squad_coeffs(row, coeff_df, squad_id_col) -> pd.Series:\n",
    "    squad_id = row[squad_id_col]\n",
    "    match_date = row[\"date\"]\n",
    "    squad_coeffs = coeff_df[(coeff_df[\"squadId\"] == squad_id) & (coeff_df[\"date\"] <= match_date)]\n",
    "    if len(squad_coeffs) > 0:\n",
    "        latest = squad_coeffs.sort_values(\"date\").iloc[-1]\n",
    "        return pd.Series({\"attack\": latest[\"attackCoefficient\"], \"defense\": latest[\"defenseCoefficient\"]})\n",
    "    return pd.Series({\"attack\": None, \"defense\": None})\n",
    "\n",
    "# Merge homeSquad coefficients\n",
    "home_coeffs = matches.apply(lambda row: get_squad_coeffs(row, coefficients, \"homeSquadId\"), axis=1)\n",
    "matches[\"attackCoefficientHome\"] = home_coeffs[\"attack\"]\n",
    "matches[\"defenseCoefficientHome\"] = home_coeffs[\"defense\"]\n",
    "\n",
    "# Merge awaySquad coefficients\n",
    "away_coeffs = matches.apply(lambda row: get_squad_coeffs(row, coefficients, \"awaySquadId\"), axis=1)\n",
    "matches[\"attackCoefficientAway\"] = away_coeffs[\"attack\"]\n",
    "matches[\"defenseCoefficientAway\"] = away_coeffs[\"defense\"]\n",
    "\n",
    "matches.head()"
   ]
  },
  {
   "cell_type": "code",
   "execution_count": null,
   "metadata": {},
   "outputs": [],
   "source": [
    "# Compute predictions\n",
    "matches[\"predHome\"] = np.exp(\n",
    "    matches[\"interceptCoefficient\"] +\n",
    "    matches[\"homeCoefficient\"] +\n",
    "    matches[\"competitionCoefficient\"] +\n",
    "    matches[\"attackCoefficientHome\"] +\n",
    "    matches[\"defenseCoefficientAway\"]\n",
    ")\n",
    "matches[\"predAway\"] = np.exp(\n",
    "    matches[\"interceptCoefficient\"] +\n",
    "    matches[\"competitionCoefficient\"] +\n",
    "    matches[\"attackCoefficientAway\"] +\n",
    "    matches[\"defenseCoefficientHome\"]\n",
    ")\n",
    "\n",
    "matches.head()"
   ]
  }
 ],
 "metadata": {
  "kernelspec": {
   "display_name": "venv",
   "language": "python",
   "name": "python3"
  },
  "language_info": {
   "codemirror_mode": {
    "name": "ipython",
    "version": 3
   },
   "file_extension": ".py",
   "mimetype": "text/x-python",
   "name": "python",
   "nbconvert_exporter": "python",
   "pygments_lexer": "ipython3",
   "version": "3.11.7"
  }
 },
 "nbformat": 4,
 "nbformat_minor": 4
}
